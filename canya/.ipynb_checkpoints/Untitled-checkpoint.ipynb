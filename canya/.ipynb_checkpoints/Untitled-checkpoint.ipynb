{
 "cells": [
  {
   "cell_type": "code",
   "execution_count": 1,
   "id": "d6009865-3f58-4f20-8445-7f41d1eb1f43",
   "metadata": {},
   "outputs": [
    {
     "name": "stderr",
     "output_type": "stream",
     "text": [
      "2024-06-05 22:04:56.829472: I tensorflow/core/platform/cpu_feature_guard.cc:142] This TensorFlow binary is optimized with oneAPI Deep Neural Network Library (oneDNN) to use the following CPU instructions in performance-critical operations:  AVX2 FMA\n",
      "To enable them in other operations, rebuild TensorFlow with the appropriate compiler flags.\n"
     ]
    }
   ],
   "source": [
    "import sys\n",
    "import argparse\n",
    "import pkg_resources\n",
    "import utils\n",
    "import modeling\n",
    "import numpy as np\n",
    "import pandas as pd\n",
    "batchsize=10000"
   ]
  },
  {
   "cell_type": "code",
   "execution_count": 2,
   "id": "80e033c6-a4b9-4822-a7d6-0503e20b0b54",
   "metadata": {},
   "outputs": [
    {
     "name": "stdout",
     "output_type": "stream",
     "text": [
      "created model\n",
      "loaded weights!\n"
     ]
    }
   ],
   "source": [
    "inputfi=\"/Users/mikethompson/waltz_tab_long.txt\"\n",
    "# seqnames, seqs\n",
    "seqlist=utils.get_input_sequences(inputfi)\n",
    "canyamod=modeling.get_canya()"
   ]
  },
  {
   "cell_type": "code",
   "execution_count": 3,
   "id": "accfedce-a8c5-4b0d-bb56-3a0e7066d5f8",
   "metadata": {
    "scrolled": true
   },
   "outputs": [],
   "source": [
    "resdfs=[]\n",
    "idxprocess=[np.array(x) for x in list(utils.chunks(list(range(len(seqlist[0]))),batchsize))]"
   ]
  },
  {
   "cell_type": "code",
   "execution_count": 4,
   "id": "05591679-9f28-4321-996c-15270e5aca30",
   "metadata": {},
   "outputs": [
    {
     "data": {
      "text/plain": [
       "[array([   0,    1,    2, ..., 9997, 9998, 9999]),\n",
       " array([10000, 10001, 10002, ..., 14157, 14158, 14159])]"
      ]
     },
     "execution_count": 4,
     "metadata": {},
     "output_type": "execute_result"
    }
   ],
   "source": [
    "idxprocess"
   ]
  },
  {
   "cell_type": "code",
   "execution_count": 5,
   "id": "c9c491c5-ab63-43b2-b231-24e2a65e5a53",
   "metadata": {
    "scrolled": true
   },
   "outputs": [
    {
     "name": "stdout",
     "output_type": "stream",
     "text": [
      "10000\n",
      "(10, 20)\n",
      "10000\n",
      "(149, 20)\n",
      "10000\n",
      "(149, 20)\n",
      "(10000, 149, 20)\n"
     ]
    },
    {
     "name": "stderr",
     "output_type": "stream",
     "text": [
      "2024-06-05 22:05:10.754410: I tensorflow/compiler/mlir/mlir_graph_optimization_pass.cc:185] None of the MLIR Optimization Passes are enabled (registered 2)\n"
     ]
    },
    {
     "name": "stdout",
     "output_type": "stream",
     "text": [
      "4160\n",
      "(10, 20)\n",
      "4160\n",
      "(149, 20)\n",
      "4160\n",
      "(149, 20)\n",
      "(4160, 149, 20)\n"
     ]
    }
   ],
   "source": [
    "\n",
    "curidx=idxprocess[0]\n",
    "for curidx in idxprocess:\n",
    "    seqstopred=np.array(seqlist[1])[curidx]\n",
    "    seqstopred=seqstopred.tolist()\n",
    "    namespred=np.array(seqlist[0])[curidx]\n",
    "    namespred=namespred.tolist()\n",
    "\n",
    "    preds=modeling.get_predictions(model=canyamod,sequences=seqstopred)\n",
    "    curpreddf=pd.DataFrame({\"seqid\" : namespred,\n",
    "                        \"pred\" : preds})\n",
    "    mindf=curpreddf.groupby(\"seqid\").min()\n",
    "    mindf=pd.DataFrame({\"seqid\" : mindf.index.tolist(),\n",
    "                       \"pred\" : mindf[\"pred\"].tolist()},index=None)\n",
    "    resdfs.append(mindf)\n",
    "\n"
   ]
  },
  {
   "cell_type": "code",
   "execution_count": 10,
   "id": "e77739db-85d2-429a-b3a8-49af08e13ee2",
   "metadata": {
    "scrolled": true
   },
   "outputs": [
    {
     "data": {
      "text/html": [
       "<div>\n",
       "<style scoped>\n",
       "    .dataframe tbody tr th:only-of-type {\n",
       "        vertical-align: middle;\n",
       "    }\n",
       "\n",
       "    .dataframe tbody tr th {\n",
       "        vertical-align: top;\n",
       "    }\n",
       "\n",
       "    .dataframe thead th {\n",
       "        text-align: right;\n",
       "    }\n",
       "</style>\n",
       "<table border=\"1\" class=\"dataframe\">\n",
       "  <thead>\n",
       "    <tr style=\"text-align: right;\">\n",
       "      <th></th>\n",
       "      <th>seqid</th>\n",
       "      <th>pred</th>\n",
       "    </tr>\n",
       "  </thead>\n",
       "  <tbody>\n",
       "    <tr>\n",
       "      <th>0</th>\n",
       "      <td>seq|1</td>\n",
       "      <td>0.063138</td>\n",
       "    </tr>\n",
       "    <tr>\n",
       "      <th>1</th>\n",
       "      <td>seq|10</td>\n",
       "      <td>0.147685</td>\n",
       "    </tr>\n",
       "    <tr>\n",
       "      <th>2</th>\n",
       "      <td>seq|100</td>\n",
       "      <td>0.049052</td>\n",
       "    </tr>\n",
       "    <tr>\n",
       "      <th>3</th>\n",
       "      <td>seq|1000</td>\n",
       "      <td>0.109252</td>\n",
       "    </tr>\n",
       "    <tr>\n",
       "      <th>4</th>\n",
       "      <td>seq|1001</td>\n",
       "      <td>0.127641</td>\n",
       "    </tr>\n",
       "    <tr>\n",
       "      <th>...</th>\n",
       "      <td>...</td>\n",
       "      <td>...</td>\n",
       "    </tr>\n",
       "    <tr>\n",
       "      <th>1411</th>\n",
       "      <td>seq|995</td>\n",
       "      <td>0.104518</td>\n",
       "    </tr>\n",
       "    <tr>\n",
       "      <th>1412</th>\n",
       "      <td>seq|996</td>\n",
       "      <td>0.086926</td>\n",
       "    </tr>\n",
       "    <tr>\n",
       "      <th>1413</th>\n",
       "      <td>seq|997</td>\n",
       "      <td>0.135655</td>\n",
       "    </tr>\n",
       "    <tr>\n",
       "      <th>1414</th>\n",
       "      <td>seq|998</td>\n",
       "      <td>0.017441</td>\n",
       "    </tr>\n",
       "    <tr>\n",
       "      <th>1415</th>\n",
       "      <td>seq|999</td>\n",
       "      <td>0.063092</td>\n",
       "    </tr>\n",
       "  </tbody>\n",
       "</table>\n",
       "<p>2832 rows × 2 columns</p>\n",
       "</div>"
      ],
      "text/plain": [
       "         seqid      pred\n",
       "0        seq|1  0.063138\n",
       "1       seq|10  0.147685\n",
       "2      seq|100  0.049052\n",
       "3     seq|1000  0.109252\n",
       "4     seq|1001  0.127641\n",
       "...        ...       ...\n",
       "1411   seq|995  0.104518\n",
       "1412   seq|996  0.086926\n",
       "1413   seq|997  0.135655\n",
       "1414   seq|998  0.017441\n",
       "1415   seq|999  0.063092\n",
       "\n",
       "[2832 rows x 2 columns]"
      ]
     },
     "execution_count": 10,
     "metadata": {},
     "output_type": "execute_result"
    }
   ],
   "source": [
    "resdf=pd.concat(resdfs,axis=0)\n",
    "resdf=resdf.groupby(\"seqid\").min()\n",
    "resdf=pd.DataFrame({\"seqid\" : resdf.index.tolist(),\n",
    "                       \"pred\" : resdf[\"pred\"].tolist()},index=None)"
   ]
  },
  {
   "cell_type": "code",
   "execution_count": 11,
   "id": "cbd76086-3ce6-4665-9c81-b4f955d5611d",
   "metadata": {},
   "outputs": [],
   "source": []
  },
  {
   "cell_type": "code",
   "execution_count": 12,
   "id": "688f0ff6-50ad-442c-bfb7-df971d51ea02",
   "metadata": {},
   "outputs": [
    {
     "data": {
      "text/html": [
       "<div>\n",
       "<style scoped>\n",
       "    .dataframe tbody tr th:only-of-type {\n",
       "        vertical-align: middle;\n",
       "    }\n",
       "\n",
       "    .dataframe tbody tr th {\n",
       "        vertical-align: top;\n",
       "    }\n",
       "\n",
       "    .dataframe thead th {\n",
       "        text-align: right;\n",
       "    }\n",
       "</style>\n",
       "<table border=\"1\" class=\"dataframe\">\n",
       "  <thead>\n",
       "    <tr style=\"text-align: right;\">\n",
       "      <th></th>\n",
       "      <th>seqid</th>\n",
       "      <th>pred</th>\n",
       "    </tr>\n",
       "  </thead>\n",
       "  <tbody>\n",
       "    <tr>\n",
       "      <th>0</th>\n",
       "      <td>seq|1</td>\n",
       "      <td>0.063138</td>\n",
       "    </tr>\n",
       "    <tr>\n",
       "      <th>1</th>\n",
       "      <td>seq|10</td>\n",
       "      <td>0.147685</td>\n",
       "    </tr>\n",
       "    <tr>\n",
       "      <th>2</th>\n",
       "      <td>seq|100</td>\n",
       "      <td>0.049052</td>\n",
       "    </tr>\n",
       "    <tr>\n",
       "      <th>3</th>\n",
       "      <td>seq|1000</td>\n",
       "      <td>0.109252</td>\n",
       "    </tr>\n",
       "    <tr>\n",
       "      <th>4</th>\n",
       "      <td>seq|1001</td>\n",
       "      <td>0.127641</td>\n",
       "    </tr>\n",
       "    <tr>\n",
       "      <th>...</th>\n",
       "      <td>...</td>\n",
       "      <td>...</td>\n",
       "    </tr>\n",
       "    <tr>\n",
       "      <th>1411</th>\n",
       "      <td>seq|995</td>\n",
       "      <td>0.104518</td>\n",
       "    </tr>\n",
       "    <tr>\n",
       "      <th>1412</th>\n",
       "      <td>seq|996</td>\n",
       "      <td>0.086926</td>\n",
       "    </tr>\n",
       "    <tr>\n",
       "      <th>1413</th>\n",
       "      <td>seq|997</td>\n",
       "      <td>0.135655</td>\n",
       "    </tr>\n",
       "    <tr>\n",
       "      <th>1414</th>\n",
       "      <td>seq|998</td>\n",
       "      <td>0.017441</td>\n",
       "    </tr>\n",
       "    <tr>\n",
       "      <th>1415</th>\n",
       "      <td>seq|999</td>\n",
       "      <td>0.063092</td>\n",
       "    </tr>\n",
       "  </tbody>\n",
       "</table>\n",
       "<p>1416 rows × 2 columns</p>\n",
       "</div>"
      ],
      "text/plain": [
       "         seqid      pred\n",
       "0        seq|1  0.063138\n",
       "1       seq|10  0.147685\n",
       "2      seq|100  0.049052\n",
       "3     seq|1000  0.109252\n",
       "4     seq|1001  0.127641\n",
       "...        ...       ...\n",
       "1411   seq|995  0.104518\n",
       "1412   seq|996  0.086926\n",
       "1413   seq|997  0.135655\n",
       "1414   seq|998  0.017441\n",
       "1415   seq|999  0.063092\n",
       "\n",
       "[1416 rows x 2 columns]"
      ]
     },
     "execution_count": 12,
     "metadata": {},
     "output_type": "execute_result"
    }
   ],
   "source": [
    "resdf"
   ]
  },
  {
   "cell_type": "code",
   "execution_count": 40,
   "id": "66068d88-11c3-4381-afc9-dbf260563dcc",
   "metadata": {},
   "outputs": [
    {
     "data": {
      "text/html": [
       "<div>\n",
       "<style scoped>\n",
       "    .dataframe tbody tr th:only-of-type {\n",
       "        vertical-align: middle;\n",
       "    }\n",
       "\n",
       "    .dataframe tbody tr th {\n",
       "        vertical-align: top;\n",
       "    }\n",
       "\n",
       "    .dataframe thead th {\n",
       "        text-align: right;\n",
       "    }\n",
       "</style>\n",
       "<table border=\"1\" class=\"dataframe\">\n",
       "  <thead>\n",
       "    <tr style=\"text-align: right;\">\n",
       "      <th></th>\n",
       "      <th>seqid</th>\n",
       "      <th>pred</th>\n",
       "    </tr>\n",
       "  </thead>\n",
       "  <tbody>\n",
       "    <tr>\n",
       "      <th>0</th>\n",
       "      <td>seq|1</td>\n",
       "      <td>0.063138</td>\n",
       "    </tr>\n",
       "    <tr>\n",
       "      <th>1</th>\n",
       "      <td>seq|10</td>\n",
       "      <td>0.147685</td>\n",
       "    </tr>\n",
       "    <tr>\n",
       "      <th>2</th>\n",
       "      <td>seq|100</td>\n",
       "      <td>0.049052</td>\n",
       "    </tr>\n",
       "    <tr>\n",
       "      <th>3</th>\n",
       "      <td>seq|1000</td>\n",
       "      <td>0.109252</td>\n",
       "    </tr>\n",
       "    <tr>\n",
       "      <th>4</th>\n",
       "      <td>seq|1001</td>\n",
       "      <td>0.127641</td>\n",
       "    </tr>\n",
       "    <tr>\n",
       "      <th>...</th>\n",
       "      <td>...</td>\n",
       "      <td>...</td>\n",
       "    </tr>\n",
       "    <tr>\n",
       "      <th>1411</th>\n",
       "      <td>seq|995</td>\n",
       "      <td>0.104518</td>\n",
       "    </tr>\n",
       "    <tr>\n",
       "      <th>1412</th>\n",
       "      <td>seq|996</td>\n",
       "      <td>0.086926</td>\n",
       "    </tr>\n",
       "    <tr>\n",
       "      <th>1413</th>\n",
       "      <td>seq|997</td>\n",
       "      <td>0.135655</td>\n",
       "    </tr>\n",
       "    <tr>\n",
       "      <th>1414</th>\n",
       "      <td>seq|998</td>\n",
       "      <td>0.017441</td>\n",
       "    </tr>\n",
       "    <tr>\n",
       "      <th>1415</th>\n",
       "      <td>seq|999</td>\n",
       "      <td>0.063092</td>\n",
       "    </tr>\n",
       "  </tbody>\n",
       "</table>\n",
       "<p>1416 rows × 2 columns</p>\n",
       "</div>"
      ],
      "text/plain": [
       "         seqid      pred\n",
       "0        seq|1  0.063138\n",
       "1       seq|10  0.147685\n",
       "2      seq|100  0.049052\n",
       "3     seq|1000  0.109252\n",
       "4     seq|1001  0.127641\n",
       "...        ...       ...\n",
       "1411   seq|995  0.104518\n",
       "1412   seq|996  0.086926\n",
       "1413   seq|997  0.135655\n",
       "1414   seq|998  0.017441\n",
       "1415   seq|999  0.063092\n",
       "\n",
       "[1416 rows x 2 columns]"
      ]
     },
     "execution_count": 40,
     "metadata": {},
     "output_type": "execute_result"
    }
   ],
   "source": []
  },
  {
   "cell_type": "code",
   "execution_count": 19,
   "id": "e9abb51e-00ce-4e38-b700-d8603b7bb19f",
   "metadata": {},
   "outputs": [
    {
     "name": "stdout",
     "output_type": "stream",
     "text": [
      "1416\n",
      "(10, 20)\n",
      "(1416,)\n"
     ]
    }
   ],
   "source": [
    "import tensorflow as tf\n",
    "embeddedseqs=[tf.pad(modeling.seq_to_vector(x),paddings,\"CONSTANT\") for x in seqstopred]\n",
    "print(len(embeddedseqs))\n",
    "print(embeddedseqs[0].shape)\n",
    "print(np.asarray(embeddedseqs).shape)"
   ]
  },
  {
   "cell_type": "code",
   "execution_count": 26,
   "id": "a864f06b-f9f5-460c-a8cb-4437e1042129",
   "metadata": {},
   "outputs": [
    {
     "name": "stdout",
     "output_type": "stream",
     "text": [
      "1416\n",
      "(149, 20)\n"
     ]
    }
   ],
   "source": [
    "embeddedseqs=[modeling.dynamic_padding(x,seqminsize,post=True) for x in embeddedseqs]\n",
    "print(len(embeddedseqs))\n",
    "print(embeddedseqs[0].shape)"
   ]
  },
  {
   "cell_type": "code",
   "execution_count": 29,
   "id": "02bcc909-d6c4-4c5e-9934-05f16c16ed86",
   "metadata": {},
   "outputs": [
    {
     "ename": "NotImplementedError",
     "evalue": "Cannot convert a symbolic Tensor (PadV2_1416:0) to a numpy array. This error may indicate that you're trying to pass a Tensor to a NumPy call, which is not supported",
     "output_type": "error",
     "traceback": [
      "\u001b[0;31m---------------------------------------------------------------------------\u001b[0m",
      "\u001b[0;31mNotImplementedError\u001b[0m                       Traceback (most recent call last)",
      "Cell \u001b[0;32mIn[29], line 1\u001b[0m\n\u001b[0;32m----> 1\u001b[0m canyamod\u001b[38;5;241m.\u001b[39mpredict(\u001b[43mnp\u001b[49m\u001b[38;5;241;43m.\u001b[39;49m\u001b[43mconcatenate\u001b[49m\u001b[43m(\u001b[49m\u001b[43membeddedseqs\u001b[49m\u001b[43m)\u001b[49m)\n",
      "File \u001b[0;32m<__array_function__ internals>:5\u001b[0m, in \u001b[0;36mconcatenate\u001b[0;34m(*args, **kwargs)\u001b[0m\n",
      "File \u001b[0;32m/Library/Frameworks/Python.framework/Versions/3.9/lib/python3.9/site-packages/tensorflow/python/framework/ops.py:867\u001b[0m, in \u001b[0;36mTensor.__array__\u001b[0;34m(self)\u001b[0m\n\u001b[1;32m    866\u001b[0m \u001b[38;5;28;01mdef\u001b[39;00m \u001b[38;5;21m__array__\u001b[39m(\u001b[38;5;28mself\u001b[39m):\n\u001b[0;32m--> 867\u001b[0m   \u001b[38;5;28;01mraise\u001b[39;00m \u001b[38;5;167;01mNotImplementedError\u001b[39;00m(\n\u001b[1;32m    868\u001b[0m       \u001b[38;5;124m\"\u001b[39m\u001b[38;5;124mCannot convert a symbolic Tensor (\u001b[39m\u001b[38;5;132;01m{}\u001b[39;00m\u001b[38;5;124m) to a numpy array.\u001b[39m\u001b[38;5;124m\"\u001b[39m\n\u001b[1;32m    869\u001b[0m       \u001b[38;5;124m\"\u001b[39m\u001b[38;5;124m This error may indicate that you\u001b[39m\u001b[38;5;124m'\u001b[39m\u001b[38;5;124mre trying to pass a Tensor to\u001b[39m\u001b[38;5;124m\"\u001b[39m\n\u001b[1;32m    870\u001b[0m       \u001b[38;5;124m\"\u001b[39m\u001b[38;5;124m a NumPy call, which is not supported\u001b[39m\u001b[38;5;124m\"\u001b[39m\u001b[38;5;241m.\u001b[39mformat(\u001b[38;5;28mself\u001b[39m\u001b[38;5;241m.\u001b[39mname))\n",
      "\u001b[0;31mNotImplementedError\u001b[0m: Cannot convert a symbolic Tensor (PadV2_1416:0) to a numpy array. This error may indicate that you're trying to pass a Tensor to a NumPy call, which is not supported"
     ]
    }
   ],
   "source": [
    "canyamod.predict(np.concatenate(embeddedseqs))"
   ]
  },
  {
   "cell_type": "code",
   "execution_count": null,
   "id": "95cf2220-42bc-468e-96cf-9e677baf265e",
   "metadata": {},
   "outputs": [],
   "source": [
    "embeddedseqs=[dynamic_padding(x,seqminsize,post=True) for x in embeddedseqs]\n",
    "print(len(embeddedseqs))\n",
    "print(embeddedseqs[0].shape)\n",
    "embeddedseqs=np.asarray(embeddedseqs)\n",
    "print(len(embeddedseqs))\n",
    "print(embeddedseqs[0].shape)\n",
    "print(embeddedseqs.shape)"
   ]
  },
  {
   "cell_type": "code",
   "execution_count": null,
   "id": "ac612a88-17fb-42bd-ad14-47a933a0beb9",
   "metadata": {},
   "outputs": [],
   "source": []
  }
 ],
 "metadata": {
  "kernelspec": {
   "display_name": "Python 3 (ipykernel)",
   "language": "python",
   "name": "python3"
  },
  "language_info": {
   "codemirror_mode": {
    "name": "ipython",
    "version": 3
   },
   "file_extension": ".py",
   "mimetype": "text/x-python",
   "name": "python",
   "nbconvert_exporter": "python",
   "pygments_lexer": "ipython3",
   "version": "3.9.6"
  }
 },
 "nbformat": 4,
 "nbformat_minor": 5
}
